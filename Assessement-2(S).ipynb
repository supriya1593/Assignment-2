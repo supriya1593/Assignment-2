{
 "cells": [
  {
   "cell_type": "code",
   "execution_count": 1,
   "id": "ffb407e7",
   "metadata": {},
   "outputs": [],
   "source": [
    "import numpy as np\n",
    "import pandas as pd\n",
    "import statistics"
   ]
  },
  {
   "cell_type": "code",
   "execution_count": 2,
   "id": "a9fcba05",
   "metadata": {},
   "outputs": [],
   "source": [
    "#loading data set\n",
    "data = pd.read_csv(r\"C:\\Users\\supri\\Downloads\\Indian_Cricket_Team_Dataset.csv\")"
   ]
  },
  {
   "cell_type": "code",
   "execution_count": 3,
   "id": "3e208530",
   "metadata": {},
   "outputs": [
    {
     "data": {
      "text/html": [
       "<div>\n",
       "<style scoped>\n",
       "    .dataframe tbody tr th:only-of-type {\n",
       "        vertical-align: middle;\n",
       "    }\n",
       "\n",
       "    .dataframe tbody tr th {\n",
       "        vertical-align: top;\n",
       "    }\n",
       "\n",
       "    .dataframe thead th {\n",
       "        text-align: right;\n",
       "    }\n",
       "</style>\n",
       "<table border=\"1\" class=\"dataframe\">\n",
       "  <thead>\n",
       "    <tr style=\"text-align: right;\">\n",
       "      <th></th>\n",
       "      <th>Player Name</th>\n",
       "      <th>Age</th>\n",
       "      <th>Matches Played</th>\n",
       "      <th>Batting Average</th>\n",
       "      <th>Strike Rate</th>\n",
       "    </tr>\n",
       "  </thead>\n",
       "  <tbody>\n",
       "    <tr>\n",
       "      <th>0</th>\n",
       "      <td>Player_1</td>\n",
       "      <td>26</td>\n",
       "      <td>456</td>\n",
       "      <td>27.70</td>\n",
       "      <td>188.21</td>\n",
       "    </tr>\n",
       "    <tr>\n",
       "      <th>1</th>\n",
       "      <td>Player_2</td>\n",
       "      <td>23</td>\n",
       "      <td>154</td>\n",
       "      <td>24.61</td>\n",
       "      <td>139.34</td>\n",
       "    </tr>\n",
       "    <tr>\n",
       "      <th>2</th>\n",
       "      <td>Player_3</td>\n",
       "      <td>32</td>\n",
       "      <td>210</td>\n",
       "      <td>36.87</td>\n",
       "      <td>182.79</td>\n",
       "    </tr>\n",
       "    <tr>\n",
       "      <th>3</th>\n",
       "      <td>Player_4</td>\n",
       "      <td>34</td>\n",
       "      <td>426</td>\n",
       "      <td>51.81</td>\n",
       "      <td>178.77</td>\n",
       "    </tr>\n",
       "    <tr>\n",
       "      <th>4</th>\n",
       "      <td>Player_5</td>\n",
       "      <td>30</td>\n",
       "      <td>221</td>\n",
       "      <td>49.80</td>\n",
       "      <td>162.44</td>\n",
       "    </tr>\n",
       "    <tr>\n",
       "      <th>...</th>\n",
       "      <td>...</td>\n",
       "      <td>...</td>\n",
       "      <td>...</td>\n",
       "      <td>...</td>\n",
       "      <td>...</td>\n",
       "    </tr>\n",
       "    <tr>\n",
       "      <th>995</th>\n",
       "      <td>Player_996</td>\n",
       "      <td>24</td>\n",
       "      <td>279</td>\n",
       "      <td>23.46</td>\n",
       "      <td>187.80</td>\n",
       "    </tr>\n",
       "    <tr>\n",
       "      <th>996</th>\n",
       "      <td>Player_997</td>\n",
       "      <td>28</td>\n",
       "      <td>344</td>\n",
       "      <td>29.47</td>\n",
       "      <td>160.55</td>\n",
       "    </tr>\n",
       "    <tr>\n",
       "      <th>997</th>\n",
       "      <td>Player_998</td>\n",
       "      <td>23</td>\n",
       "      <td>126</td>\n",
       "      <td>49.30</td>\n",
       "      <td>124.71</td>\n",
       "    </tr>\n",
       "    <tr>\n",
       "      <th>998</th>\n",
       "      <td>Player_999</td>\n",
       "      <td>35</td>\n",
       "      <td>16</td>\n",
       "      <td>41.93</td>\n",
       "      <td>135.59</td>\n",
       "    </tr>\n",
       "    <tr>\n",
       "      <th>999</th>\n",
       "      <td>Player_1000</td>\n",
       "      <td>30</td>\n",
       "      <td>146</td>\n",
       "      <td>25.12</td>\n",
       "      <td>108.39</td>\n",
       "    </tr>\n",
       "  </tbody>\n",
       "</table>\n",
       "<p>1000 rows × 5 columns</p>\n",
       "</div>"
      ],
      "text/plain": [
       "     Player Name  Age  Matches Played  Batting Average  Strike Rate\n",
       "0       Player_1   26             456            27.70       188.21\n",
       "1       Player_2   23             154            24.61       139.34\n",
       "2       Player_3   32             210            36.87       182.79\n",
       "3       Player_4   34             426            51.81       178.77\n",
       "4       Player_5   30             221            49.80       162.44\n",
       "..           ...  ...             ...              ...          ...\n",
       "995   Player_996   24             279            23.46       187.80\n",
       "996   Player_997   28             344            29.47       160.55\n",
       "997   Player_998   23             126            49.30       124.71\n",
       "998   Player_999   35              16            41.93       135.59\n",
       "999  Player_1000   30             146            25.12       108.39\n",
       "\n",
       "[1000 rows x 5 columns]"
      ]
     },
     "execution_count": 3,
     "metadata": {},
     "output_type": "execute_result"
    }
   ],
   "source": [
    "data"
   ]
  },
  {
   "cell_type": "code",
   "execution_count": 4,
   "id": "6ab291a7",
   "metadata": {},
   "outputs": [
    {
     "data": {
      "text/plain": [
       "0      26\n",
       "1      23\n",
       "2      32\n",
       "3      34\n",
       "4      30\n",
       "       ..\n",
       "995    24\n",
       "996    28\n",
       "997    23\n",
       "998    35\n",
       "999    30\n",
       "Name: Age, Length: 1000, dtype: int64"
      ]
     },
     "execution_count": 4,
     "metadata": {},
     "output_type": "execute_result"
    }
   ],
   "source": [
    "data['Age']"
   ]
  },
  {
   "cell_type": "code",
   "execution_count": 7,
   "id": "8687a88b",
   "metadata": {},
   "outputs": [
    {
     "data": {
      "text/plain": [
       "array([26, 23, 32, 34, 30, 27, 32, 24, 26, 29, 22, 26, 30, 30, 27, 24, 23,\n",
       "       27, 27, 22, 25, 24, 21, 27, 31, 33, 25, 21, 35, 31, 24, 20, 31, 29,\n",
       "       25, 32, 31, 28, 20, 30, 30, 34, 29, 35, 31, 31, 35, 34, 33, 33, 34,\n",
       "       33, 22, 31, 26, 23, 35, 28, 22, 24, 22, 26, 24, 28, 26, 21, 23, 28,\n",
       "       31, 33, 21, 29, 28, 29, 24, 21, 23, 31, 34, 31, 26, 31, 32, 27, 34,\n",
       "       22, 33, 20, 23, 21, 27, 23, 21, 33, 25, 25, 29, 23, 25, 32, 34, 21,\n",
       "       29, 31, 21, 29, 33, 23, 33, 34, 35, 34, 27, 33, 26, 31, 28, 33, 27,\n",
       "       24, 35, 32, 21, 34, 24, 27, 29, 28, 31, 31, 31, 32, 28, 32, 34, 32,\n",
       "       20, 28, 26, 28, 27, 20, 31, 27, 27, 34, 30, 22, 20, 27, 22, 22, 20,\n",
       "       30, 24, 29, 26, 29, 28, 31, 26, 28, 27, 31, 21, 20, 35, 26, 26, 33,\n",
       "       27, 24, 22, 31, 27, 25, 30, 22, 20, 22, 24, 34, 33, 22, 20, 24, 29,\n",
       "       26, 34, 33, 26, 30, 28, 34, 34, 29, 29, 31, 32, 22, 34, 35, 26, 20,\n",
       "       23, 32, 35, 23, 33, 24, 26, 26, 32, 34, 30, 32, 23, 32, 35, 26, 30,\n",
       "       22, 25, 31, 21, 29, 32, 33, 28, 24, 25, 31, 31, 31, 31, 23, 33, 33,\n",
       "       30, 35, 29, 26, 31, 28, 26, 33, 20, 20, 28, 30, 33, 28, 23, 32, 28,\n",
       "       22, 26, 25, 27, 30, 28, 33, 24, 20, 22, 29, 31, 27, 34, 30, 25, 35,\n",
       "       35, 27, 28, 23, 20, 33, 20, 29, 23, 31, 33, 26, 21, 22, 20, 24, 20,\n",
       "       27, 20, 30, 20, 21, 21, 31, 25, 26, 24, 35, 20, 20, 22, 33, 21, 24,\n",
       "       31, 29, 35, 25, 35, 26, 23, 26, 30, 27, 30, 20, 34, 25, 27, 24, 23,\n",
       "       21, 25, 25, 30, 34, 35, 35, 20, 28, 31, 30, 25, 35, 32, 22, 23, 31,\n",
       "       30, 23, 22, 29, 22, 34, 22, 23, 35, 26, 23, 28, 20, 27, 35, 26, 21,\n",
       "       27, 20, 30, 31, 28, 28, 21, 26, 34, 33, 29, 22, 26, 31, 35, 29, 35,\n",
       "       28, 23, 31, 20, 21, 20, 35, 33, 31, 24, 24, 35, 30, 26, 28, 28, 22,\n",
       "       22, 35, 35, 22, 23, 27, 25, 27, 20, 27, 23, 30, 20, 27, 23, 25, 27,\n",
       "       23, 33, 22, 35, 33, 28, 22, 28, 32, 21, 35, 33, 21, 21, 25, 22, 35,\n",
       "       32, 28, 23, 20, 23, 20, 33, 24, 35, 23, 27, 35, 27, 26, 22, 20, 35,\n",
       "       20, 35, 31, 30, 22, 25, 26, 25, 33, 33, 25, 25, 32, 22, 25, 27, 30,\n",
       "       30, 21, 24, 33, 20, 31, 34, 35, 20, 24, 31, 32, 35, 22, 23, 22, 35,\n",
       "       20, 35, 20, 31, 31, 33, 32, 33, 24, 25, 22, 31, 28, 24, 27, 32, 20,\n",
       "       33, 24, 34, 22, 31, 20, 23, 34, 32, 24, 35, 26, 20, 35, 22, 35, 21,\n",
       "       28, 29, 34, 25, 29, 22, 27, 33, 27, 21, 35, 34, 25, 26, 21, 34, 30,\n",
       "       29, 21, 29, 20, 27, 20, 28, 30, 25, 35, 26, 32, 29, 26, 29, 22, 21,\n",
       "       28, 27, 32, 31, 29, 26, 28, 23, 32, 23, 20, 27, 35, 33, 35, 33, 31,\n",
       "       22, 26, 34, 31, 21, 21, 35, 26, 34, 25, 22, 28, 29, 34, 33, 32, 25,\n",
       "       29, 29, 25, 20, 23, 29, 25, 34, 25, 30, 31, 24, 20, 27, 24, 31, 31,\n",
       "       31, 24, 26, 23, 25, 32, 35, 23, 33, 34, 22, 26, 27, 23, 35, 32, 21,\n",
       "       31, 29, 33, 22, 20, 27, 34, 22, 31, 29, 26, 29, 24, 29, 24, 33, 26,\n",
       "       34, 28, 31, 24, 20, 29, 29, 20, 34, 21, 35, 33, 25, 35, 28, 27, 32,\n",
       "       24, 20, 35, 32, 26, 35, 34, 24, 25, 32, 26, 22, 31, 29, 35, 22, 24,\n",
       "       25, 28, 32, 33, 31, 24, 34, 20, 33, 33, 33, 23, 24, 31, 35, 29, 29,\n",
       "       35, 24, 26, 23, 20, 33, 33, 24, 26, 29, 29, 25, 24, 23, 21, 23, 34,\n",
       "       29, 29, 22, 29, 35, 20, 27, 24, 32, 23, 35, 27, 35, 26, 21, 20, 31,\n",
       "       35, 35, 30, 23, 27, 31, 21, 22, 31, 20, 20, 32, 22, 30, 24, 31, 22,\n",
       "       20, 20, 27, 29, 30, 31, 32, 32, 31, 34, 33, 21, 32, 22, 21, 22, 26,\n",
       "       20, 29, 27, 32, 29, 29, 29, 33, 21, 22, 28, 26, 23, 29, 24, 21, 32,\n",
       "       30, 32, 27, 23, 28, 24, 32, 28, 23, 29, 24, 28, 27, 35, 22, 20, 22,\n",
       "       35, 23, 21, 20, 26, 35, 27, 26, 33, 35, 24, 31, 20, 26, 32, 26, 28,\n",
       "       22, 28, 33, 20, 20, 33, 23, 35, 28, 25, 32, 30, 22, 20, 23, 31, 32,\n",
       "       28, 22, 31, 28, 26, 31, 33, 34, 35, 23, 22, 29, 34, 35, 24, 24, 22,\n",
       "       31, 28, 23, 30, 24, 23, 24, 26, 35, 28, 26, 32, 24, 29, 29, 26, 33,\n",
       "       34, 29, 24, 22, 26, 32, 30, 30, 21, 34, 31, 28, 29, 29, 31, 20, 32,\n",
       "       25, 26, 33, 32, 27, 29, 28, 21, 30, 29, 21, 24, 32, 24, 25, 22, 27,\n",
       "       35, 32, 20, 25, 23, 20, 34, 26, 28, 32, 23, 23, 25, 31, 34, 22, 32,\n",
       "       31, 25, 26, 30, 29, 29, 22, 26, 33, 22, 32, 32, 21, 31, 33, 29, 23,\n",
       "       31, 27, 32, 34, 28, 26, 20, 22, 32, 31, 33, 28, 34, 31, 20, 28, 27,\n",
       "       20, 25, 24, 25, 29, 31, 32, 35, 32, 32, 34, 24, 35, 25, 24, 30, 31,\n",
       "       24, 23, 22, 22, 23, 28, 21, 34, 28, 20, 33, 34, 34, 20, 24, 25, 25,\n",
       "       22, 35, 26, 28, 30, 31, 29, 35, 35, 27, 25, 31, 27, 31, 24, 27, 29,\n",
       "       31, 23, 29, 27, 29, 31, 21, 31, 31, 24, 28, 23, 35, 30],\n",
       "      dtype=int64)"
      ]
     },
     "execution_count": 7,
     "metadata": {},
     "output_type": "execute_result"
    }
   ],
   "source": [
    "#Convert 'Age' column to a NumPy array.\n",
    "age = np.array(data['Age'])\n",
    "age"
   ]
  },
  {
   "cell_type": "code",
   "execution_count": 8,
   "id": "7f2f6bd1",
   "metadata": {},
   "outputs": [
    {
     "data": {
      "text/plain": [
       "27.57"
      ]
     },
     "execution_count": 8,
     "metadata": {},
     "output_type": "execute_result"
    }
   ],
   "source": [
    "# Find the average age of players. \n",
    "age.mean()"
   ]
  },
  {
   "cell_type": "code",
   "execution_count": 9,
   "id": "8ef12c22",
   "metadata": {},
   "outputs": [
    {
     "data": {
      "text/plain": [
       "20"
      ]
     },
     "execution_count": 9,
     "metadata": {},
     "output_type": "execute_result"
    }
   ],
   "source": [
    "# Find the oldest and youngest player age.\n",
    "age.min()"
   ]
  },
  {
   "cell_type": "code",
   "execution_count": 10,
   "id": "10f54489",
   "metadata": {},
   "outputs": [
    {
     "data": {
      "text/plain": [
       "35"
      ]
     },
     "execution_count": 10,
     "metadata": {},
     "output_type": "execute_result"
    }
   ],
   "source": [
    "age.max()"
   ]
  },
  {
   "cell_type": "code",
   "execution_count": 11,
   "id": "be832e67",
   "metadata": {},
   "outputs": [
    {
     "data": {
      "text/plain": [
       "array([32, 34, 32, 31, 33, 35, 31, 31, 32, 31, 34, 35, 31, 31, 35, 34, 33,\n",
       "       33, 34, 33, 31, 35, 31, 33, 31, 34, 31, 31, 32, 34, 33, 33, 32, 34,\n",
       "       31, 33, 33, 34, 35, 34, 33, 31, 33, 35, 32, 34, 31, 31, 31, 32, 32,\n",
       "       34, 32, 31, 34, 31, 31, 35, 33, 31, 34, 33, 34, 33, 34, 34, 31, 32,\n",
       "       34, 35, 32, 35, 33, 32, 34, 32, 32, 35, 31, 32, 33, 31, 31, 31, 31,\n",
       "       33, 33, 35, 31, 33, 33, 32, 33, 31, 34, 35, 35, 33, 31, 33, 31, 35,\n",
       "       33, 31, 35, 35, 34, 34, 35, 35, 31, 35, 32, 31, 34, 35, 35, 31, 34,\n",
       "       33, 31, 35, 35, 31, 35, 33, 31, 35, 35, 35, 33, 35, 33, 32, 35, 33,\n",
       "       35, 32, 33, 35, 35, 35, 35, 31, 33, 33, 32, 33, 31, 34, 35, 31, 32,\n",
       "       35, 35, 35, 31, 31, 33, 32, 33, 31, 32, 33, 34, 31, 34, 32, 35, 35,\n",
       "       35, 34, 33, 35, 34, 34, 35, 32, 32, 31, 32, 35, 33, 35, 33, 31, 34,\n",
       "       31, 35, 34, 34, 33, 32, 34, 31, 31, 31, 31, 32, 35, 33, 34, 35, 32,\n",
       "       31, 33, 34, 31, 33, 34, 31, 34, 35, 33, 35, 32, 35, 32, 35, 34, 32,\n",
       "       31, 35, 32, 33, 31, 34, 33, 33, 33, 31, 35, 35, 33, 33, 34, 35, 32,\n",
       "       35, 35, 31, 35, 35, 31, 31, 32, 31, 31, 32, 32, 31, 34, 33, 32, 32,\n",
       "       33, 32, 32, 32, 35, 35, 35, 33, 35, 31, 32, 33, 33, 35, 32, 31, 32,\n",
       "       31, 31, 33, 34, 35, 34, 35, 31, 35, 32, 33, 34, 32, 34, 31, 31, 32,\n",
       "       33, 32, 32, 35, 32, 34, 32, 31, 34, 32, 31, 33, 32, 32, 31, 33, 31,\n",
       "       32, 34, 32, 31, 33, 34, 31, 31, 32, 35, 32, 32, 34, 35, 31, 34, 33,\n",
       "       34, 34, 35, 31, 35, 35, 31, 31, 31, 31, 31, 31, 35], dtype=int64)"
      ]
     },
     "execution_count": 11,
     "metadata": {},
     "output_type": "execute_result"
    }
   ],
   "source": [
    "# Count the total number of players above 30 years old.\n",
    "age[age > 30]"
   ]
  },
  {
   "cell_type": "code",
   "execution_count": 12,
   "id": "b9f0e189",
   "metadata": {},
   "outputs": [
    {
     "data": {
      "text/html": [
       "<div>\n",
       "<style scoped>\n",
       "    .dataframe tbody tr th:only-of-type {\n",
       "        vertical-align: middle;\n",
       "    }\n",
       "\n",
       "    .dataframe tbody tr th {\n",
       "        vertical-align: top;\n",
       "    }\n",
       "\n",
       "    .dataframe thead th {\n",
       "        text-align: right;\n",
       "    }\n",
       "</style>\n",
       "<table border=\"1\" class=\"dataframe\">\n",
       "  <thead>\n",
       "    <tr style=\"text-align: right;\">\n",
       "      <th></th>\n",
       "      <th>Player Name</th>\n",
       "      <th>Age</th>\n",
       "      <th>Matches Played</th>\n",
       "      <th>Batting Average</th>\n",
       "      <th>Strike Rate</th>\n",
       "    </tr>\n",
       "  </thead>\n",
       "  <tbody>\n",
       "    <tr>\n",
       "      <th>0</th>\n",
       "      <td>Player_1</td>\n",
       "      <td>26</td>\n",
       "      <td>456</td>\n",
       "      <td>27.70</td>\n",
       "      <td>188.21</td>\n",
       "    </tr>\n",
       "    <tr>\n",
       "      <th>1</th>\n",
       "      <td>Player_2</td>\n",
       "      <td>23</td>\n",
       "      <td>154</td>\n",
       "      <td>24.61</td>\n",
       "      <td>139.34</td>\n",
       "    </tr>\n",
       "    <tr>\n",
       "      <th>2</th>\n",
       "      <td>Player_3</td>\n",
       "      <td>32</td>\n",
       "      <td>210</td>\n",
       "      <td>36.87</td>\n",
       "      <td>182.79</td>\n",
       "    </tr>\n",
       "    <tr>\n",
       "      <th>3</th>\n",
       "      <td>Player_4</td>\n",
       "      <td>34</td>\n",
       "      <td>426</td>\n",
       "      <td>51.81</td>\n",
       "      <td>178.77</td>\n",
       "    </tr>\n",
       "    <tr>\n",
       "      <th>4</th>\n",
       "      <td>Player_5</td>\n",
       "      <td>30</td>\n",
       "      <td>221</td>\n",
       "      <td>49.80</td>\n",
       "      <td>162.44</td>\n",
       "    </tr>\n",
       "  </tbody>\n",
       "</table>\n",
       "</div>"
      ],
      "text/plain": [
       "  Player Name  Age  Matches Played  Batting Average  Strike Rate\n",
       "0    Player_1   26             456            27.70       188.21\n",
       "1    Player_2   23             154            24.61       139.34\n",
       "2    Player_3   32             210            36.87       182.79\n",
       "3    Player_4   34             426            51.81       178.77\n",
       "4    Player_5   30             221            49.80       162.44"
      ]
     },
     "execution_count": 12,
     "metadata": {},
     "output_type": "execute_result"
    }
   ],
   "source": [
    "# Find the median batting average. \n",
    "data.head()"
   ]
  },
  {
   "cell_type": "code",
   "execution_count": 13,
   "id": "605a0463",
   "metadata": {},
   "outputs": [
    {
     "data": {
      "text/plain": [
       "40.135"
      ]
     },
     "execution_count": 13,
     "metadata": {},
     "output_type": "execute_result"
    }
   ],
   "source": [
    "data['Batting Average'].median()"
   ]
  },
  {
   "cell_type": "code",
   "execution_count": 14,
   "id": "c32a731f",
   "metadata": {},
   "outputs": [
    {
     "data": {
      "text/plain": [
       "<bound method Series.std of 0      188.21\n",
       "1      139.34\n",
       "2      182.79\n",
       "3      178.77\n",
       "4      162.44\n",
       "        ...  \n",
       "995    187.80\n",
       "996    160.55\n",
       "997    124.71\n",
       "998    135.59\n",
       "999    108.39\n",
       "Name: Strike Rate, Length: 1000, dtype: float64>"
      ]
     },
     "execution_count": 14,
     "metadata": {},
     "output_type": "execute_result"
    }
   ],
   "source": [
    "# Find the standard deviation of strike rates\n",
    "data['Strike Rate'].std"
   ]
  },
  {
   "cell_type": "code",
   "execution_count": 15,
   "id": "772b6341",
   "metadata": {},
   "outputs": [
    {
     "data": {
      "text/html": [
       "<div>\n",
       "<style scoped>\n",
       "    .dataframe tbody tr th:only-of-type {\n",
       "        vertical-align: middle;\n",
       "    }\n",
       "\n",
       "    .dataframe tbody tr th {\n",
       "        vertical-align: top;\n",
       "    }\n",
       "\n",
       "    .dataframe thead th {\n",
       "        text-align: right;\n",
       "    }\n",
       "</style>\n",
       "<table border=\"1\" class=\"dataframe\">\n",
       "  <thead>\n",
       "    <tr style=\"text-align: right;\">\n",
       "      <th></th>\n",
       "      <th>Age</th>\n",
       "      <th>Matches Played</th>\n",
       "      <th>Batting Average</th>\n",
       "      <th>Strike Rate</th>\n",
       "    </tr>\n",
       "  </thead>\n",
       "  <tbody>\n",
       "    <tr>\n",
       "      <th>count</th>\n",
       "      <td>1000.000000</td>\n",
       "      <td>1000.00000</td>\n",
       "      <td>1000.00000</td>\n",
       "      <td>1000.000000</td>\n",
       "    </tr>\n",
       "    <tr>\n",
       "      <th>mean</th>\n",
       "      <td>27.570000</td>\n",
       "      <td>250.32600</td>\n",
       "      <td>39.76529</td>\n",
       "      <td>150.661230</td>\n",
       "    </tr>\n",
       "    <tr>\n",
       "      <th>std</th>\n",
       "      <td>4.666785</td>\n",
       "      <td>142.09216</td>\n",
       "      <td>11.47482</td>\n",
       "      <td>29.122759</td>\n",
       "    </tr>\n",
       "    <tr>\n",
       "      <th>min</th>\n",
       "      <td>20.000000</td>\n",
       "      <td>10.00000</td>\n",
       "      <td>20.01000</td>\n",
       "      <td>100.020000</td>\n",
       "    </tr>\n",
       "    <tr>\n",
       "      <th>25%</th>\n",
       "      <td>23.000000</td>\n",
       "      <td>126.00000</td>\n",
       "      <td>29.47750</td>\n",
       "      <td>125.355000</td>\n",
       "    </tr>\n",
       "    <tr>\n",
       "      <th>50%</th>\n",
       "      <td>28.000000</td>\n",
       "      <td>252.50000</td>\n",
       "      <td>40.13500</td>\n",
       "      <td>151.890000</td>\n",
       "    </tr>\n",
       "    <tr>\n",
       "      <th>75%</th>\n",
       "      <td>32.000000</td>\n",
       "      <td>370.25000</td>\n",
       "      <td>49.73250</td>\n",
       "      <td>176.095000</td>\n",
       "    </tr>\n",
       "    <tr>\n",
       "      <th>max</th>\n",
       "      <td>35.000000</td>\n",
       "      <td>500.00000</td>\n",
       "      <td>59.85000</td>\n",
       "      <td>199.970000</td>\n",
       "    </tr>\n",
       "  </tbody>\n",
       "</table>\n",
       "</div>"
      ],
      "text/plain": [
       "               Age  Matches Played  Batting Average  Strike Rate\n",
       "count  1000.000000      1000.00000       1000.00000  1000.000000\n",
       "mean     27.570000       250.32600         39.76529   150.661230\n",
       "std       4.666785       142.09216         11.47482    29.122759\n",
       "min      20.000000        10.00000         20.01000   100.020000\n",
       "25%      23.000000       126.00000         29.47750   125.355000\n",
       "50%      28.000000       252.50000         40.13500   151.890000\n",
       "75%      32.000000       370.25000         49.73250   176.095000\n",
       "max      35.000000       500.00000         59.85000   199.970000"
      ]
     },
     "execution_count": 15,
     "metadata": {},
     "output_type": "execute_result"
    }
   ],
   "source": [
    "# Find the 90th percentile of batting average\n",
    "data.describe()"
   ]
  },
  {
   "cell_type": "code",
   "execution_count": 16,
   "id": "cae011a1",
   "metadata": {},
   "outputs": [
    {
     "name": "stdout",
     "output_type": "stream",
     "text": [
      "55.323\n"
     ]
    }
   ],
   "source": [
    "percentile_90 = np.percentile(data['Batting Average'], 90)\n",
    "print(percentile_90)"
   ]
  },
  {
   "cell_type": "code",
   "execution_count": 17,
   "id": "2955a17c",
   "metadata": {},
   "outputs": [
    {
     "data": {
      "text/plain": [
       "513"
      ]
     },
     "execution_count": 17,
     "metadata": {},
     "output_type": "execute_result"
    }
   ],
   "source": [
    "# Find the number of players with strike rate above 150\n",
    "strike_rate = data['Strike Rate'] > 150\n",
    "strike_rate.sum()"
   ]
  },
  {
   "cell_type": "code",
   "execution_count": 18,
   "id": "f9279899",
   "metadata": {},
   "outputs": [],
   "source": [
    "# Reshape the first 20 batting averages into a 4x5 matrix.\n",
    "bat_avg = data['Batting Average'].head(20)"
   ]
  },
  {
   "cell_type": "code",
   "execution_count": 19,
   "id": "25b1fd3b",
   "metadata": {
    "scrolled": true
   },
   "outputs": [
    {
     "data": {
      "text/plain": [
       "0     27.70\n",
       "1     24.61\n",
       "2     36.87\n",
       "3     51.81\n",
       "4     49.80\n",
       "5     22.20\n",
       "6     38.21\n",
       "7     40.90\n",
       "8     45.78\n",
       "9     46.01\n",
       "10    34.59\n",
       "11    42.43\n",
       "12    39.24\n",
       "13    55.40\n",
       "14    41.21\n",
       "15    37.64\n",
       "16    36.18\n",
       "17    42.90\n",
       "18    52.16\n",
       "19    41.54\n",
       "Name: Batting Average, dtype: float64"
      ]
     },
     "execution_count": 19,
     "metadata": {},
     "output_type": "execute_result"
    }
   ],
   "source": [
    "bat_avg"
   ]
  },
  {
   "cell_type": "code",
   "execution_count": 20,
   "id": "7bad1f27",
   "metadata": {},
   "outputs": [
    {
     "data": {
      "text/plain": [
       "(20,)"
      ]
     },
     "execution_count": 20,
     "metadata": {},
     "output_type": "execute_result"
    }
   ],
   "source": [
    "bat_avg.shape"
   ]
  },
  {
   "cell_type": "code",
   "execution_count": 21,
   "id": "59a3a98e",
   "metadata": {},
   "outputs": [
    {
     "name": "stdout",
     "output_type": "stream",
     "text": [
      "[[27.7  24.61 36.87 51.81 49.8 ]\n",
      " [22.2  38.21 40.9  45.78 46.01]\n",
      " [34.59 42.43 39.24 55.4  41.21]\n",
      " [37.64 36.18 42.9  52.16 41.54]]\n"
     ]
    }
   ],
   "source": [
    "matrix = bat_avg.to_numpy().reshape(4, 5)\n",
    "print(matrix)"
   ]
  },
  {
   "cell_type": "code",
   "execution_count": 22,
   "id": "98aac73b",
   "metadata": {},
   "outputs": [
    {
     "data": {
      "text/plain": [
       "array([122.13, 141.43, 159.91, 205.15, 178.56])"
      ]
     },
     "execution_count": 22,
     "metadata": {},
     "output_type": "execute_result"
    }
   ],
   "source": [
    "# Compute row-wise sum of reshaped matrix\n",
    "matrix.sum(axis=0)"
   ]
  },
  {
   "cell_type": "code",
   "execution_count": 23,
   "id": "a834b6d3",
   "metadata": {},
   "outputs": [
    {
     "data": {
      "text/plain": [
       "array([38.158, 38.62 , 42.574, 42.084])"
      ]
     },
     "execution_count": 23,
     "metadata": {},
     "output_type": "execute_result"
    }
   ],
   "source": [
    "# Compute column-wise mean of reshaped matrix. \n",
    "matrix.mean(axis=1)"
   ]
  },
  {
   "cell_type": "code",
   "execution_count": 24,
   "id": "f3bc5e04",
   "metadata": {},
   "outputs": [
    {
     "data": {
      "text/plain": [
       "array([[27.7 , 22.2 , 34.59, 37.64],\n",
       "       [24.61, 38.21, 42.43, 36.18],\n",
       "       [36.87, 40.9 , 39.24, 42.9 ],\n",
       "       [51.81, 45.78, 55.4 , 52.16],\n",
       "       [49.8 , 46.01, 41.21, 41.54]])"
      ]
     },
     "execution_count": 24,
     "metadata": {},
     "output_type": "execute_result"
    }
   ],
   "source": [
    "# Transpose the reshaped matrix.\n",
    "trans_mat = matrix.T\n",
    "trans_mat"
   ]
  },
  {
   "cell_type": "code",
   "execution_count": 25,
   "id": "df2d3dff",
   "metadata": {},
   "outputs": [
    {
     "data": {
      "text/plain": [
       "131.6715008167167"
      ]
     },
     "execution_count": 25,
     "metadata": {},
     "output_type": "execute_result"
    }
   ],
   "source": [
    "# Find the variance of batting average. \n",
    "data['Batting Average'].var()"
   ]
  },
  {
   "cell_type": "code",
   "execution_count": 26,
   "id": "d68b1489",
   "metadata": {},
   "outputs": [
    {
     "data": {
      "text/plain": [
       "array([[ 26,  23,  32, ...,  23,  35,  30],\n",
       "       [456, 154, 210, ..., 126,  16, 146]], dtype=int64)"
      ]
     },
     "execution_count": 26,
     "metadata": {},
     "output_type": "execute_result"
    }
   ],
   "source": [
    "# Stack age and matches played horizontally.\n",
    "stacked = np.stack((data['Age'],data['Matches Played']))\n",
    "stacked"
   ]
  },
  {
   "cell_type": "code",
   "execution_count": 29,
   "id": "08aa774f",
   "metadata": {},
   "outputs": [],
   "source": [
    "# Split the batting average array into 5 equal parts.\n",
    "split_arr = np.split(data['Batting Average'],5)"
   ]
  },
  {
   "cell_type": "code",
   "execution_count": 30,
   "id": "9815b9d1",
   "metadata": {},
   "outputs": [
    {
     "name": "stdout",
     "output_type": "stream",
     "text": [
      "[0      27.70\n",
      "1      24.61\n",
      "2      36.87\n",
      "3      51.81\n",
      "4      49.80\n",
      "       ...  \n",
      "195    50.91\n",
      "196    29.20\n",
      "197    25.25\n",
      "198    54.72\n",
      "199    58.53\n",
      "Name: Batting Average, Length: 200, dtype: float64, 200    21.25\n",
      "201    49.25\n",
      "202    56.38\n",
      "203    54.29\n",
      "204    58.58\n",
      "       ...  \n",
      "395    45.60\n",
      "396    28.99\n",
      "397    27.20\n",
      "398    23.54\n",
      "399    24.13\n",
      "Name: Batting Average, Length: 200, dtype: float64, 400    43.39\n",
      "401    47.53\n",
      "402    35.90\n",
      "403    39.20\n",
      "404    47.44\n",
      "       ...  \n",
      "595    35.14\n",
      "596    34.52\n",
      "597    59.82\n",
      "598    37.85\n",
      "599    33.34\n",
      "Name: Batting Average, Length: 200, dtype: float64, 600    43.22\n",
      "601    23.55\n",
      "602    58.47\n",
      "603    45.40\n",
      "604    50.19\n",
      "       ...  \n",
      "795    51.30\n",
      "796    29.11\n",
      "797    59.04\n",
      "798    46.69\n",
      "799    20.42\n",
      "Name: Batting Average, Length: 200, dtype: float64, 800    30.22\n",
      "801    30.43\n",
      "802    22.77\n",
      "803    58.39\n",
      "804    39.13\n",
      "       ...  \n",
      "995    23.46\n",
      "996    29.47\n",
      "997    49.30\n",
      "998    41.93\n",
      "999    25.12\n",
      "Name: Batting Average, Length: 200, dtype: float64]\n"
     ]
    }
   ],
   "source": [
    "print(split_arr)"
   ]
  },
  {
   "cell_type": "code",
   "execution_count": 31,
   "id": "976c777d",
   "metadata": {
    "scrolled": true
   },
   "outputs": [
    {
     "name": "stdout",
     "output_type": "stream",
     "text": [
      "[0    27.70\n",
      "1    24.61\n",
      "2    36.87\n",
      "3    51.81\n",
      "Name: Batting Average, dtype: float64, 4    49.80\n",
      "5    22.20\n",
      "6    38.21\n",
      "7    40.90\n",
      "Name: Batting Average, dtype: float64, 8     45.78\n",
      "9     46.01\n",
      "10    34.59\n",
      "11    42.43\n",
      "Name: Batting Average, dtype: float64, 12    39.24\n",
      "13    55.40\n",
      "14    41.21\n",
      "15    37.64\n",
      "Name: Batting Average, dtype: float64, 16    36.18\n",
      "17    42.90\n",
      "18    52.16\n",
      "19    41.54\n",
      "Name: Batting Average, dtype: float64]\n"
     ]
    }
   ],
   "source": [
    "s_a = np.split(bat_avg,5)\n",
    "print(s_a)"
   ]
  }
 ],
 "metadata": {
  "kernelspec": {
   "display_name": "Python 3 (ipykernel)",
   "language": "python",
   "name": "python3"
  },
  "language_info": {
   "codemirror_mode": {
    "name": "ipython",
    "version": 3
   },
   "file_extension": ".py",
   "mimetype": "text/x-python",
   "name": "python",
   "nbconvert_exporter": "python",
   "pygments_lexer": "ipython3",
   "version": "3.12.7"
  }
 },
 "nbformat": 4,
 "nbformat_minor": 5
}
